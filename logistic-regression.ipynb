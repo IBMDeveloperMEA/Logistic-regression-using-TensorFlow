{
 "cells": [
  {
   "cell_type": "markdown",
   "metadata": {},
   "source": [
    "<h2>LOGISTIC REGRESSION WITH TENSORFLOW</h2>\n",
    "\n",
    "<h3>Objective for this Notebook<h3>    \n",
    "<h5> 1. What is different between Linear and Logistic Regression?</h5>\n",
    "<h5> 2. Utilizing Logistic Regression in TensorFlow. </h5>\n",
    "<h5> 3. Training the model </h5>\n"
   ]
  },
  {
   "cell_type": "markdown",
   "metadata": {},
   "source": [
    "## Table of Contents\n",
    "\n",
    "Logistic Regression is one of most important techniques in data science. It is usually used to solve the classic classification problem.\n",
    "\n",
    "<div class=\"alert alert-block alert-info\" style=\"margin-top: 20px\">\n",
    "<font size = 3><strong>This lesson covers the following concepts of Logistics Regression:</strong></font>\n",
    "<br>\n",
    "<h2>Table of Contents</h2>\n",
    "\n",
    "<ol>\n",
    "    <li><a href=\"#ref1\">Linear Regression vs Logistic Regression</a></li>\n",
    "    <li><a href=\"#ref2\">Utilizing Logistic Regression in TensorFlow</a></li>\n",
    "    <li><a href=\"#ref3\">Training</a></li>\n",
    "</ol>    \n",
    "</div>\n",
    "<p></p>\n",
    "<br>\n",
    "\n",
    "<hr>\n"
   ]
  },
  {
   "cell_type": "markdown",
   "metadata": {},
   "source": [
    "<a id=\"ref1\"></a>\n",
    "\n",
    "<h2>What is different between Linear and Logistic Regression?</h2>\n",
    "\n",
    "While Linear Regression is suited for estimating continuous values (e.g. estimating house price), it is not the best tool for predicting the class in which an observed data point belongs. In order to provide estimate for classification, we need some sort of guidance on what would be the <b>most probable class</b> for that data point. For this, we use <b>Logistic Regression</b>.\n",
    "\n",
    "<div class=\"alert alert-success alertsuccess\" style=\"margin-top: 20px\">\n",
    "<font size=\"3\"><strong>Recall linear regression:</strong></font>\n",
    "<br>\n",
    "<br>\n",
    "Linear regression finds a function that relates a continuous dependent variable, <i>y</i>, to some predictors (independent variables <i>x1</i>, <i>x2</i>, etc.). Simple linear regression assumes a function of the form:\n",
    "<br><br>\n",
    "$$\n",
    "y = w0 + w1 \\times x1 + w2 \\times x2 + \\cdots\n",
    "$$\n",
    "<br>\n",
    "and finds the values of <i>w0</i>, <i>w1</i>, <i>w2</i>, etc. The term <i>w0</i> is the \"intercept\" or \"constant term\" (it's shown as <i>b</i> in the formula below):\n",
    "<br><br>\n",
    "$$\n",
    "Y = W X + b\n",
    "$$\n",
    "<p></p>\n",
    "\n",
    "</div>\n",
    "\n",
    "Logistic Regression is a variation of Linear Regression, useful when the observed dependent variable, <i>y</i>, is categorical. It produces a formula that predicts the probability of the class label as a function of the independent variables.\n",
    "\n",
    "Despite the name logistic <i>regression</i>, it is actually a <b>probabilistic classification</b> model. Logistic regression fits a special s-shaped curve by taking the linear regression and transforming the numeric estimate into a probability with the following function:\n",
    "\n",
    "$$\n",
    "ProbabilityOfaClass = \\\\theta(y) = \\\\frac{e^y}{1 + e^y} = exp(y) / (1 + exp(y)) = p \n",
    "$$\n",
    "\n",
    "which produces p-values between 0 (as y approaches minus infinity $-\\\\infty$) and 1 (as y approaches plus infinity $+\\\\infty$). This now becomes a special kind of non-linear regression.\n",
    "\n",
    "In this equation, <i>y</i> is the regression result (the sum of the variables weighted by the coefficients), <code>exp</code> is the exponential function and $\\\\theta(y)$ is the <a href=\"http://en.wikipedia.org/wiki/Logistic_function\">logistic function</a>, also called logistic curve. It is a common \"S\" shape (sigmoid curve), and was first developed for modeling population growth.\n",
    "\n",
    "You might also have seen this function before, in another configuration:\n",
    "\n",
    "$$\n",
    "ProbabilityOfaClass = \\\\theta(y) = \\\\frac{1}{1+e^{-y}}\n",
    "$$\n",
    "\n",
    "So, briefly, Logistic Regression passes the input through the logistic/sigmoid function but then treats the result as a probability:\n",
    "\n",
    "<img src=\"https://ibm.box.com/shared/static/kgv9alcghmjcv97op4d6onkyxevk23b1.png\" width=\"400\" align=\"center\">\n"
   ]
  },
  {
   "cell_type": "markdown",
   "metadata": {},
   "source": [
    "* * *\n"
   ]
  },
  {
   "cell_type": "markdown",
   "metadata": {},
   "source": [
    "For us to utilize Logistic Regression in TensorFlow, we first need to import the required libraries. To do so, you can run the code cell below.\n"
   ]
  },
  {
   "cell_type": "code",
   "execution_count": 1,
   "metadata": {},
   "outputs": [],
   "source": [
    "import numpy as np\n",
    "import pandas as pd\n",
    "import tensorflow as tf\n",
    "from tensorflow import keras\n",
    "from sklearn.datasets import load_iris\n",
    "from sklearn.model_selection import train_test_split\n",
    "import matplotlib.pyplot as plt\n",
    "from tensorflow.keras import layers\n",
    "import time\n"
   ]
  },
  {
   "cell_type": "markdown",
   "metadata": {},
   "source": [
    "Next, we will load the dataset we are going to use. In this case, we are utilizing the <code>iris</code> dataset, which is inbuilt -- so there's no need to do any preprocessing and we can jump right into manipulating it. We separate the dataset into <i>xs</i> and <i>ys</i>, and then into training <i>xs</i> and <i>ys</i> and testing <i>xs</i> and <i>ys</i>, (pseudo)randomly.\n"
   ]
  },
  {
   "cell_type": "markdown",
   "metadata": {},
   "source": [
    "<h3>Understanding the Data</h3>\n",
    "\n",
    "<h4><code>Iris Dataset</code>:</h4>\n",
    "This dataset was introduced by British Statistician and Biologist Ronald Fisher, it consists of 50 samples from each of three species of Iris (Iris setosa, Iris virginica and Iris versicolor). In total it has 150 records under five attributes - petal length, petal width, sepal length, sepal width and species. <a href=\"https://archive.ics.uci.edu/ml/datasets/iris\">Dataset source</a>\n",
    "\n",
    "Attributes\n",
    "Independent Variable\n",
    "\n",
    "<ul>\n",
    "    <li>petal length</li>\n",
    "    <li>petal width</li>\n",
    "    <li>sepal length</li>\n",
    "    <li>sepal width</li>\n",
    "</ul>\n",
    "Dependent Variable\n",
    "<ul>    \n",
    "    <li>Species\n",
    "        <ul>\n",
    "            <li>Iris setosa</li>\n",
    "            <li>Iris virginica</li>\n",
    "            <li>Iris versicolor</li>\n",
    "        </ul>\n",
    "    </li>\n",
    "</ul>\n",
    "<br>\n"
   ]
  },
  {
   "cell_type": "code",
   "execution_count": 2,
   "metadata": {},
   "outputs": [
    {
     "data": {
      "text/plain": [
       "(150, 4)"
      ]
     },
     "execution_count": 2,
     "metadata": {},
     "output_type": "execute_result"
    }
   ],
   "source": [
    "iris = load_iris()\n",
    "iris_X, iris_y = iris.data[:-1,:], iris.target[:-1]\n",
    "iris_y= pd.get_dummies(iris_y).values\n",
    "trainX, testX, trainY, testY = train_test_split(iris_X, iris_y, test_size=0.2, random_state=42)\n",
    "iris.data.shape"
   ]
  },
  {
   "cell_type": "markdown",
   "metadata": {},
   "source": [
    "Now we define x and y. These variables will hold our iris data (both the features and label matrices) We also need to give them shapes which correspond to the shape of our data. \n"
   ]
  },
  {
   "cell_type": "code",
   "execution_count": 3,
   "metadata": {},
   "outputs": [
    {
     "name": "stdout",
     "output_type": "stream",
     "text": [
      "numFeatures is :  4\n",
      "numLabels is :  3\n"
     ]
    }
   ],
   "source": [
    "# numFeatures is the number of features in our input data.\n",
    "# In the iris dataset, this number is '4'.\n",
    "numFeatures = trainX.shape[1]\n",
    "print('numFeatures is : ', numFeatures )\n",
    "# numLabels is the number of classes our data points can be in.\n",
    "# In the iris dataset, this number is '3'.\n",
    "numLabels = trainY.shape[1]\n",
    "print('numLabels is : ', numLabels )\n",
    "\n",
    "#X = tf.Variable( np.identity(numFeatures), tf.TensorShape(numFeatures),dtype='float32') # Iris has 4 features, so X is a tensor to hold our data.\n",
    "#yGold = tf.Variable(np.array([1,1,1]),shape=tf.TensorShape(numLabels),dtype='float32') # This will be our correct answers matrix for 3 classes."
   ]
  },
  {
   "cell_type": "code",
   "execution_count": 4,
   "metadata": {},
   "outputs": [],
   "source": [
    "trainX = tf.constant(trainX, dtype='float32')\n",
    "trainY = tf.constant(trainY, dtype='float32')\n",
    "testX = tf.constant(testX, dtype='float32')\n",
    "testY = tf.constant(testY, dtype='float32')"
   ]
  },
  {
   "cell_type": "markdown",
   "metadata": {},
   "source": [
    "<h3>Set model weights and bias</h3>\n",
    "\n",
    "Much like Linear Regression, we need a shared variable weight matrix for Logistic Regression. We initialize both <code>W</code> and <code>b</code> as tensors full of zeros. Since we are going to learn <code>W</code> and <code>b</code>, their initial value does not matter too much. These variables are the objects which define the structure of our regression model, and we can save them after they have been trained so we can reuse them later.\n",
    "\n",
    "We define two TensorFlow variables as our parameters. These variables will hold the weights and biases of our logistic regression and they will be continually updated during training. \n",
    "\n",
    "Notice that <code>W</code> has a shape of [4, 3] because we want to multiply the 4-dimensional input vectors by it to produce 3-dimensional vectors of evidence for the difference classes. <code>b</code> has a shape of [3] so we can add it to the output. TensorFlow variables need to be initialized with values, e.g. with zeros.\n"
   ]
  },
  {
   "cell_type": "code",
   "execution_count": 5,
   "metadata": {},
   "outputs": [],
   "source": [
    "W = tf.Variable(tf.zeros([4, 3]))  # 4-dimensional input and  3 classes\n",
    "b = tf.Variable(tf.zeros([3])) # 3-dimensional output [0,0,1],[0,1,0],[1,0,0]"
   ]
  },
  {
   "cell_type": "code",
   "execution_count": 6,
   "metadata": {},
   "outputs": [],
   "source": [
    "#Randomly sample from a normal distribution with standard deviation .01\n",
    "\n",
    "weights = tf.Variable(tf.random.normal([numFeatures,numLabels],\n",
    "                                       mean=0.,\n",
    "                                       stddev=0.01,\n",
    "                                       name=\"weights\"),dtype='float32')\n",
    "\n",
    "\n",
    "bias = tf.Variable(tf.random.normal([1,numLabels],\n",
    "                                    mean=0.,\n",
    "                                    stddev=0.01,\n",
    "                                    name=\"bias\"))\n"
   ]
  },
  {
   "cell_type": "markdown",
   "metadata": {},
   "source": [
    "<h3>Logistic Regression model</h3>\n",
    "\n",
    "We now define our operations in order to properly run the Logistic Regression. Logistic regression is typically thought of as a single equation:\n",
    "\n",
    "$$\n",
    "ŷ =sigmoid(WX+b)\n",
    "$$\n",
    "\n",
    "However, for the sake of clarity, we can have it broken into its three main components: \n",
    "\n",
    "-   a weight times features matrix multiplication operation, \n",
    "-   a summation of the weighted features and a bias term, \n",
    "-   and finally the application of a sigmoid function. \n",
    "\n",
    "As such, you will find these components defined as three separate operations below.\n"
   ]
  },
  {
   "cell_type": "code",
   "execution_count": 7,
   "metadata": {},
   "outputs": [],
   "source": [
    "# Three-component breakdown of the Logistic Regression equation.\n",
    "# Note that these feed into each other.\n",
    "def logistic_regression(x):\n",
    "    apply_weights_OP = tf.matmul(x, weights, name=\"apply_weights\")\n",
    "    add_bias_OP = tf.add(apply_weights_OP, bias, name=\"add_bias\") \n",
    "    activation_OP = tf.nn.sigmoid(add_bias_OP, name=\"activation\")\n",
    "    return activation_OP"
   ]
  },
  {
   "cell_type": "markdown",
   "metadata": {},
   "source": [
    "As we have seen before, the function we are going to use is the <i>logistic function</i> $(\\\\frac{1}{1+e^{-Wx}})$, which is fed the input data after applying weights and bias. In TensorFlow, this function is implemented as the <code>nn.sigmoid</code> function. Effectively, this fits the weighted input with bias into a 0-100 percent curve, which is the probability function we want.\n"
   ]
  },
  {
   "cell_type": "markdown",
   "metadata": {},
   "source": [
    "<hr>\n"
   ]
  },
  {
   "cell_type": "markdown",
   "metadata": {},
   "source": [
    "<a id=\"ref3\"></a>\n",
    "\n",
    "<h2>Training</h2>\n",
    "\n",
    "The learning algorithm is how we search for the best weight vector (${\\\\bf w}$). This search is an optimization problem looking for the hypothesis that optimizes an error/cost measure.\n",
    "\n",
    "<b>What tell us our model is bad?</b>  \n",
    "The Cost or Loss of the model, so what we want is to minimize that. \n",
    "\n",
    "<h3>Cost function</h3>\n",
    "Before defining our cost function, we need to define how long we are going to train and how should we define the learning rate.\n"
   ]
  },
  {
   "cell_type": "code",
   "execution_count": 8,
   "metadata": {},
   "outputs": [],
   "source": [
    "# Number of Epochs in our training\n",
    "numEpochs = 30000\n",
    "\n",
    "# Defining our learning rate iterations (decay)\n",
    "learningRate = tf.keras.optimizers.schedules.ExponentialDecay(initial_learning_rate=0.0008,\n",
    "                                          decay_steps=trainX.shape[0],\n",
    "                                          decay_rate= 0.95,\n",
    "                                          staircase=True)"
   ]
  },
  {
   "cell_type": "markdown",
   "metadata": {},
   "source": [
    "<b>What is the cost function in our model?</b>  \n",
    "The cost function we are going to utilize is the Squared Mean Error loss function.\n",
    "\n",
    "<b>How to minimize the cost function?</b>  \n",
    "We can't use <b>least-squares linear regression</b> here, so we will use <a href=\"http://en.wikipedia.org/wiki/Gradient_descent\">gradient descent</a> instead. Specifically, we will use batch gradient descent which calculates the gradient from all data points in the data set.\n"
   ]
  },
  {
   "cell_type": "code",
   "execution_count": 9,
   "metadata": {},
   "outputs": [],
   "source": [
    "#Defining our cost function - Squared Mean Error\n",
    "loss_object = tf.keras.losses.MeanSquaredLogarithmicError()\n",
    "optimizer = tf.keras.optimizers.SGD(learningRate)"
   ]
  },
  {
   "cell_type": "markdown",
   "metadata": {},
   "source": [
    "We also want some additional operations to keep track of our model's efficiency over time. We can do this like so:\n"
   ]
  },
  {
   "cell_type": "code",
   "execution_count": 10,
   "metadata": {},
   "outputs": [],
   "source": [
    "# Accuracy metric.\n",
    "def accuracy(y_pred, y_true):\n",
    "# Predicted class is the index of the highest score in prediction vector (i.e. argmax).\n",
    "\n",
    "    correct_prediction = tf.equal(tf.argmax(y_pred, 1), tf.argmax(y_true, 1))\n",
    "\n",
    "    return tf.reduce_mean(tf.cast(correct_prediction, tf.float32))"
   ]
  },
  {
   "cell_type": "markdown",
   "metadata": {},
   "source": [
    "we first wrap computation inside a GradientTape for automatic differentiation. Then we compute gradients and update W and b.\n"
   ]
  },
  {
   "cell_type": "code",
   "execution_count": 11,
   "metadata": {},
   "outputs": [],
   "source": [
    "# Optimization process. \n",
    "\n",
    "def run_optimization(x, y):\n",
    "    with tf.GradientTape() as g:\n",
    "        pred = logistic_regression(x)\n",
    "        loss = loss_object(pred, y)\n",
    "    gradients = g.gradient(loss, [weights, bias])\n",
    "    optimizer.apply_gradients(zip(gradients, [weights, bias]))"
   ]
  },
  {
   "cell_type": "markdown",
   "metadata": {},
   "source": [
    "Now we move on to actually running our operations. We will start with the operations involved in the prediction phase (i.e. the logistic regression itself).\n"
   ]
  },
  {
   "cell_type": "markdown",
   "metadata": {},
   "source": [
    "Now we can define and run the actual training loop, like this:\n"
   ]
  },
  {
   "cell_type": "code",
   "execution_count": 12,
   "metadata": {},
   "outputs": [
    {
     "name": "stdout",
     "output_type": "stream",
     "text": [
      "step 0, training accuracy 40.300000, loss 0.140269, change in loss 0.140269\n",
      "step 1000, training accuracy 40.366667, loss 0.111174, change in loss 0.0290948\n",
      "step 2000, training accuracy 40.366667, loss 0.105561, change in loss 0.00561263\n",
      "step 3000, training accuracy 40.366667, loss 0.103542, change in loss 0.00201898\n",
      "step 4000, training accuracy 40.366667, loss 0.102539, change in loss 0.00100375\n",
      "step 5000, training accuracy 40.366667, loss 0.101966, change in loss 0.000572592\n",
      "step 6000, training accuracy 40.400000, loss 0.10162, change in loss 0.000346534\n",
      "step 7000, training accuracy 40.400000, loss 0.101403, change in loss 0.000216678\n",
      "step 8000, training accuracy 40.433333, loss 0.101266, change in loss 0.000137419\n",
      "step 9000, training accuracy 40.433333, loss 0.101177, change in loss 8.80733e-05\n",
      "step 10000, training accuracy 40.433333, loss 0.101121, change in loss 5.67511e-05\n",
      "step 11000, training accuracy 40.433333, loss 0.101084, change in loss 3.66494e-05\n",
      "step 12000, training accuracy 40.433333, loss 0.10106, change in loss 2.37003e-05\n",
      "step 13000, training accuracy 40.433333, loss 0.101045, change in loss 1.55196e-05\n",
      "step 14000, training accuracy 40.433333, loss 0.101035, change in loss 9.99123e-06\n",
      "step 15000, training accuracy 40.433333, loss 0.101028, change in loss 6.50436e-06\n",
      "step 16000, training accuracy 40.433333, loss 0.101024, change in loss 4.17233e-06\n",
      "step 17000, training accuracy 40.433333, loss 0.101021, change in loss 2.72691e-06\n",
      "step 18000, training accuracy 40.433333, loss 0.10102, change in loss 1.80304e-06\n",
      "step 19000, training accuracy 40.433333, loss 0.101018, change in loss 1.18464e-06\n",
      "final accuracy on test set: 0.43333334\n"
     ]
    }
   ],
   "source": [
    "# Initialize reporting variables\n",
    "display_step = 1000\n",
    "epoch_values = []\n",
    "accuracy_values = []\n",
    "loss_values = []\n",
    "loss = 0\n",
    "diff = 1\n",
    "# Training epochs\n",
    "for i in range(numEpochs):\n",
    "    if i > 1 and diff < 1e-6:\n",
    "        print(\"change in loss %g; convergence.\"%diff)\n",
    "        break\n",
    "    else:\n",
    "        # Run training step\n",
    "        run_optimization(trainX, trainY)\n",
    "        \n",
    "        # Report occasional stats\n",
    "        if i % display_step == 0:\n",
    "            # Add epoch to epoch_values\n",
    "            epoch_values.append(i)\n",
    "            \n",
    "            pred = logistic_regression(testX)\n",
    "\n",
    "            newLoss = loss_object(pred, testY)\n",
    "            # Add loss to live graphing variable\n",
    "            loss_values.append(newLoss)\n",
    "            \n",
    "            # Generate accuracy stats on test data\n",
    "            acc = accuracy(pred, testY)\n",
    "            accuracy_values.append(acc)\n",
    "            \n",
    "    \n",
    "            # Re-assign values for variables\n",
    "            diff = abs(newLoss - loss)\n",
    "            loss = newLoss\n",
    "\n",
    "            #generate print statements\n",
    "            print(\"step %d, training accuracy 4%f, loss %g, change in loss %g\"%(i, acc, newLoss, diff))\n",
    "\n",
    "        \n",
    "\n",
    "          \n",
    "\n",
    "# How well do we perform on held-out test data?\n",
    "print(\"final accuracy on test set: %s\" %acc.numpy())\n",
    "\n",
    "\n"
   ]
  },
  {
   "cell_type": "markdown",
   "metadata": {},
   "source": [
    "<b>Why don't we plot the loss to see how it behaves?</b>\n"
   ]
  },
  {
   "cell_type": "code",
   "execution_count": 13,
   "metadata": {},
   "outputs": [
    {
     "name": "stderr",
     "output_type": "stream",
     "text": [
      "/opt/conda/envs/Python-3.7-OpenCE/lib/python3.7/site-packages/numpy/core/fromnumeric.py:3373: RuntimeWarning: Mean of empty slice.\n",
      "  out=out, **kwargs)\n",
      "/opt/conda/envs/Python-3.7-OpenCE/lib/python3.7/site-packages/numpy/core/_methods.py:170: RuntimeWarning: invalid value encountered in double_scalars\n",
      "  ret = ret.dtype.type(ret / rcount)\n"
     ]
    },
    {
     "data": {
      "image/png": "[encoded data removed]",
      "text/plain": [
       "<Figure size 432x288 with 1 Axes>"
      ]
     },
     "metadata": {
      "needs_background": "light"
     },
     "output_type": "display_data"
    }
   ],
   "source": [
    "%matplotlib inline\n",
    "import numpy as np\n",
    "import matplotlib.pyplot as plt\n",
    "plt.plot([np.mean(loss_values[i-50:i]) for i in range(len(loss_values))])\n",
    "plt.show()"
   ]
  },
  {
   "cell_type": "markdown",
   "metadata": {},
   "source": [
    " Try changing the parameters such as the length of training, and maybe some operations to see how the model behaves. Does it take much longer? How is the performance?\n"
   ]
  },
  {
   "cell_type": "markdown",
   "metadata": {},
   "source": [
    "## Create a new bigger network using keras"
   ]
  },
  {
   "cell_type": "code",
   "execution_count": 14,
   "metadata": {},
   "outputs": [],
   "source": [
    "## Create the network\n",
    "#######################\n",
    "network = keras.Sequential()\n",
    "network.add(layers.Dense(512, activation='relu', input_shape=(4,)))\n",
    "network.add(layers.Dense(3, activation='softmax'))\n",
    "## compile network\n",
    "#######################\n",
    "network.compile(optimizer='rmsprop',\n",
    "                loss='categorical_crossentropy',\n",
    "                metrics=['accuracy'])"
   ]
  },
  {
   "cell_type": "markdown",
   "metadata": {},
   "source": [
    "## train the network"
   ]
  },
  {
   "cell_type": "code",
   "execution_count": 15,
   "metadata": {},
   "outputs": [
    {
     "name": "stdout",
     "output_type": "stream",
     "text": [
      "Epoch 1/200\n",
      "3/3 [==============================] - 0s 2ms/step - loss: 1.1981 - accuracy: 0.3900\n",
      "Epoch 2/200\n",
      "3/3 [==============================] - 0s 2ms/step - loss: 0.9975 - accuracy: 0.3433\n",
      "Epoch 3/200\n",
      "3/3 [==============================] - 0s 1ms/step - loss: 0.8768 - accuracy: 0.7124\n",
      "Epoch 4/200\n",
      "3/3 [==============================] - 0s 2ms/step - loss: 0.8377 - accuracy: 0.6278\n",
      "Epoch 5/200\n",
      "3/3 [==============================] - 0s 5ms/step - loss: 0.7606 - accuracy: 0.6433\n",
      "Epoch 6/200\n",
      "3/3 [==============================] - 0s 1ms/step - loss: 0.6953 - accuracy: 0.6861\n",
      "Epoch 7/200\n",
      "3/3 [==============================] - 0s 1ms/step - loss: 0.6686 - accuracy: 0.7939\n",
      "Epoch 8/200\n",
      "3/3 [==============================] - 0s 1ms/step - loss: 0.6466 - accuracy: 0.7207\n",
      "Epoch 9/200\n",
      "3/3 [==============================] - 0s 1ms/step - loss: 0.6305 - accuracy: 0.7300\n",
      "Epoch 10/200\n",
      "3/3 [==============================] - 0s 2ms/step - loss: 0.6170 - accuracy: 0.7206\n",
      "Epoch 11/200\n",
      "3/3 [==============================] - 0s 2ms/step - loss: 0.5386 - accuracy: 0.8409\n",
      "Epoch 12/200\n",
      "3/3 [==============================] - 0s 2ms/step - loss: 0.5563 - accuracy: 0.7896\n",
      "Epoch 13/200\n",
      "3/3 [==============================] - 0s 1ms/step - loss: 0.5293 - accuracy: 0.9080\n",
      "Epoch 14/200\n",
      "3/3 [==============================] - 0s 1ms/step - loss: 0.4837 - accuracy: 0.8231\n",
      "Epoch 15/200\n",
      "3/3 [==============================] - 0s 1ms/step - loss: 0.4762 - accuracy: 0.9351\n",
      "Epoch 16/200\n",
      "3/3 [==============================] - 0s 1ms/step - loss: 0.4907 - accuracy: 0.9267\n",
      "Epoch 17/200\n",
      "3/3 [==============================] - 0s 2ms/step - loss: 0.4708 - accuracy: 0.7480\n",
      "Epoch 18/200\n",
      "3/3 [==============================] - 0s 1ms/step - loss: 0.4501 - accuracy: 0.8336\n",
      "Epoch 19/200\n",
      "3/3 [==============================] - 0s 1ms/step - loss: 0.4185 - accuracy: 0.9025\n",
      "Epoch 20/200\n",
      "3/3 [==============================] - 0s 1ms/step - loss: 0.4610 - accuracy: 0.7857\n",
      "Epoch 21/200\n",
      "3/3 [==============================] - 0s 2ms/step - loss: 0.4277 - accuracy: 0.8921\n",
      "Epoch 22/200\n",
      "3/3 [==============================] - 0s 1ms/step - loss: 0.4092 - accuracy: 0.8578\n",
      "Epoch 23/200\n",
      "3/3 [==============================] - 0s 1ms/step - loss: 0.3932 - accuracy: 0.9435\n",
      "Epoch 24/200\n",
      "3/3 [==============================] - 0s 2ms/step - loss: 0.3558 - accuracy: 0.9038\n",
      "Epoch 25/200\n",
      "3/3 [==============================] - 0s 1ms/step - loss: 0.3858 - accuracy: 0.8579\n",
      "Epoch 26/200\n",
      "3/3 [==============================] - 0s 2ms/step - loss: 0.3868 - accuracy: 0.8713\n",
      "Epoch 27/200\n",
      "3/3 [==============================] - 0s 1ms/step - loss: 0.3815 - accuracy: 0.9215\n",
      "Epoch 28/200\n",
      "3/3 [==============================] - 0s 1ms/step - loss: 0.3563 - accuracy: 0.9477\n",
      "Epoch 29/200\n",
      "3/3 [==============================] - 0s 2ms/step - loss: 0.3454 - accuracy: 0.9278\n",
      "Epoch 30/200\n",
      "3/3 [==============================] - 0s 2ms/step - loss: 0.3307 - accuracy: 0.9602\n",
      "Epoch 31/200\n",
      "3/3 [==============================] - 0s 2ms/step - loss: 0.3317 - accuracy: 0.9122\n",
      "Epoch 32/200\n",
      "3/3 [==============================] - 0s 1ms/step - loss: 0.2996 - accuracy: 0.9487\n",
      "Epoch 33/200\n",
      "3/3 [==============================] - 0s 1ms/step - loss: 0.3105 - accuracy: 0.9182\n",
      "Epoch 34/200\n",
      "3/3 [==============================] - 0s 2ms/step - loss: 0.3065 - accuracy: 0.9550\n",
      "Epoch 35/200\n",
      "3/3 [==============================] - 0s 2ms/step - loss: 0.3155 - accuracy: 0.8830\n",
      "Epoch 36/200\n",
      "3/3 [==============================] - 0s 1ms/step - loss: 0.2902 - accuracy: 0.9769\n",
      "Epoch 37/200\n",
      "3/3 [==============================] - 0s 2ms/step - loss: 0.3072 - accuracy: 0.9226\n",
      "Epoch 38/200\n",
      "3/3 [==============================] - 0s 2ms/step - loss: 0.2542 - accuracy: 0.9769\n",
      "Epoch 39/200\n",
      "3/3 [==============================] - 0s 2ms/step - loss: 0.2712 - accuracy: 0.9643\n",
      "Epoch 40/200\n",
      "3/3 [==============================] - 0s 1ms/step - loss: 0.2603 - accuracy: 0.9476\n",
      "Epoch 41/200\n",
      "3/3 [==============================] - 0s 1ms/step - loss: 0.2791 - accuracy: 0.9184\n",
      "Epoch 42/200\n",
      "3/3 [==============================] - 0s 2ms/step - loss: 0.2449 - accuracy: 0.9602\n",
      "Epoch 43/200\n",
      "3/3 [==============================] - 0s 2ms/step - loss: 0.2633 - accuracy: 0.9174\n",
      "Epoch 44/200\n",
      "3/3 [==============================] - 0s 1ms/step - loss: 0.2534 - accuracy: 0.9655\n",
      "Epoch 45/200\n",
      "3/3 [==============================] - 0s 1ms/step - loss: 0.2546 - accuracy: 0.9404\n",
      "Epoch 46/200\n",
      "3/3 [==============================] - 0s 2ms/step - loss: 0.2511 - accuracy: 0.9602\n",
      "Epoch 47/200\n",
      "3/3 [==============================] - 0s 1ms/step - loss: 0.2414 - accuracy: 0.9602\n",
      "Epoch 48/200\n",
      "3/3 [==============================] - 0s 1ms/step - loss: 0.2088 - accuracy: 0.9707\n",
      "Epoch 49/200\n",
      "3/3 [==============================] - 0s 1ms/step - loss: 0.2142 - accuracy: 0.9843\n",
      "Epoch 50/200\n",
      "3/3 [==============================] - 0s 1ms/step - loss: 0.2704 - accuracy: 0.9143\n",
      "Epoch 51/200\n",
      "3/3 [==============================] - 0s 2ms/step - loss: 0.2140 - accuracy: 0.9644\n",
      "Epoch 52/200\n",
      "3/3 [==============================] - 0s 1ms/step - loss: 0.2499 - accuracy: 0.9372\n",
      "Epoch 53/200\n",
      "3/3 [==============================] - 0s 1ms/step - loss: 0.2146 - accuracy: 0.9686\n",
      "Epoch 54/200\n",
      "3/3 [==============================] - 0s 1ms/step - loss: 0.2164 - accuracy: 0.9644\n",
      "Epoch 55/200\n",
      "3/3 [==============================] - 0s 2ms/step - loss: 0.2272 - accuracy: 0.9300\n",
      "Epoch 56/200\n",
      "3/3 [==============================] - 0s 2ms/step - loss: 0.2206 - accuracy: 0.9509\n",
      "Epoch 57/200\n",
      "3/3 [==============================] - 0s 1ms/step - loss: 0.2014 - accuracy: 0.9791\n",
      "Epoch 58/200\n",
      "3/3 [==============================] - 0s 2ms/step - loss: 0.2020 - accuracy: 0.9518\n",
      "Epoch 59/200\n",
      "3/3 [==============================] - 0s 2ms/step - loss: 0.1960 - accuracy: 0.9509\n",
      "Epoch 60/200\n",
      "3/3 [==============================] - 0s 1ms/step - loss: 0.1836 - accuracy: 0.9571\n",
      "Epoch 61/200\n",
      "3/3 [==============================] - 0s 1ms/step - loss: 0.1645 - accuracy: 0.9874\n",
      "Epoch 62/200\n",
      "3/3 [==============================] - 0s 1ms/step - loss: 0.1948 - accuracy: 0.9540\n",
      "Epoch 63/200\n",
      "3/3 [==============================] - 0s 1ms/step - loss: 0.1697 - accuracy: 0.9613\n",
      "Epoch 64/200\n",
      "3/3 [==============================] - 0s 1ms/step - loss: 0.1771 - accuracy: 0.9707\n",
      "Epoch 65/200\n",
      "3/3 [==============================] - 0s 1ms/step - loss: 0.1696 - accuracy: 0.9634\n",
      "Epoch 66/200\n",
      "3/3 [==============================] - 0s 1ms/step - loss: 0.1828 - accuracy: 0.9425\n",
      "Epoch 67/200\n",
      "3/3 [==============================] - 0s 2ms/step - loss: 0.1807 - accuracy: 0.9571\n",
      "Epoch 68/200\n",
      "3/3 [==============================] - 0s 1ms/step - loss: 0.1521 - accuracy: 0.9811\n",
      "Epoch 69/200\n",
      "3/3 [==============================] - 0s 1ms/step - loss: 0.1643 - accuracy: 0.9644\n",
      "Epoch 70/200\n",
      "3/3 [==============================] - 0s 2ms/step - loss: 0.1547 - accuracy: 0.9592\n",
      "Epoch 71/200\n",
      "3/3 [==============================] - 0s 1ms/step - loss: 0.1563 - accuracy: 0.9676\n",
      "Epoch 72/200\n",
      "3/3 [==============================] - 0s 1ms/step - loss: 0.1652 - accuracy: 0.9676\n",
      "Epoch 73/200\n",
      "3/3 [==============================] - 0s 1ms/step - loss: 0.1361 - accuracy: 0.9738\n",
      "Epoch 74/200\n",
      "3/3 [==============================] - 0s 1ms/step - loss: 0.1655 - accuracy: 0.9560\n",
      "Epoch 75/200\n",
      "3/3 [==============================] - 0s 1ms/step - loss: 0.1572 - accuracy: 0.9634\n",
      "Epoch 76/200\n",
      "3/3 [==============================] - 0s 2ms/step - loss: 0.1506 - accuracy: 0.9602\n",
      "Epoch 77/200\n",
      "3/3 [==============================] - 0s 2ms/step - loss: 0.1387 - accuracy: 0.9769\n",
      "Epoch 78/200\n",
      "3/3 [==============================] - 0s 1ms/step - loss: 0.1279 - accuracy: 0.9769\n",
      "Epoch 79/200\n",
      "3/3 [==============================] - 0s 2ms/step - loss: 0.1478 - accuracy: 0.9676\n",
      "Epoch 80/200\n",
      "3/3 [==============================] - 0s 2ms/step - loss: 0.1367 - accuracy: 0.9582\n",
      "Epoch 81/200\n",
      "3/3 [==============================] - 0s 1ms/step - loss: 0.1235 - accuracy: 0.9749\n",
      "Epoch 82/200\n",
      "3/3 [==============================] - 0s 2ms/step - loss: 0.1264 - accuracy: 0.9498\n",
      "Epoch 83/200\n",
      "3/3 [==============================] - 0s 1ms/step - loss: 0.1322 - accuracy: 0.9676\n",
      "Epoch 84/200\n",
      "3/3 [==============================] - 0s 1ms/step - loss: 0.1466 - accuracy: 0.9769\n",
      "Epoch 85/200\n",
      "3/3 [==============================] - 0s 1ms/step - loss: 0.1114 - accuracy: 0.9780\n",
      "Epoch 86/200\n",
      "3/3 [==============================] - 0s 1ms/step - loss: 0.1355 - accuracy: 0.9644\n",
      "Epoch 87/200\n",
      "3/3 [==============================] - 0s 2ms/step - loss: 0.1240 - accuracy: 0.9749\n",
      "Epoch 88/200\n",
      "3/3 [==============================] - 0s 1ms/step - loss: 0.1273 - accuracy: 0.9780\n",
      "Epoch 89/200\n",
      "3/3 [==============================] - 0s 1ms/step - loss: 0.1374 - accuracy: 0.9509\n",
      "Epoch 90/200\n",
      "3/3 [==============================] - 0s 2ms/step - loss: 0.1102 - accuracy: 0.9676\n",
      "Epoch 91/200\n",
      "3/3 [==============================] - 0s 2ms/step - loss: 0.1269 - accuracy: 0.9676\n",
      "Epoch 92/200\n",
      "3/3 [==============================] - 0s 1ms/step - loss: 0.1282 - accuracy: 0.9634\n",
      "Epoch 93/200\n",
      "3/3 [==============================] - 0s 2ms/step - loss: 0.1377 - accuracy: 0.9582\n",
      "Epoch 94/200\n",
      "3/3 [==============================] - 0s 2ms/step - loss: 0.1135 - accuracy: 0.9665\n",
      "Epoch 95/200\n",
      "3/3 [==============================] - 0s 1ms/step - loss: 0.1148 - accuracy: 0.9749\n",
      "Epoch 96/200\n",
      "3/3 [==============================] - 0s 1ms/step - loss: 0.1232 - accuracy: 0.9655\n",
      "Epoch 97/200\n",
      "3/3 [==============================] - 0s 2ms/step - loss: 0.1027 - accuracy: 0.9707\n",
      "Epoch 98/200\n",
      "3/3 [==============================] - 0s 1ms/step - loss: 0.0959 - accuracy: 0.9874\n",
      "Epoch 99/200\n",
      "3/3 [==============================] - 0s 1ms/step - loss: 0.1616 - accuracy: 0.9519\n",
      "Epoch 100/200\n",
      "3/3 [==============================] - 0s 1ms/step - loss: 0.1172 - accuracy: 0.9498\n",
      "Epoch 101/200\n",
      "3/3 [==============================] - 0s 1ms/step - loss: 0.1012 - accuracy: 0.9916\n",
      "Epoch 102/200\n",
      "3/3 [==============================] - 0s 1ms/step - loss: 0.0995 - accuracy: 0.9780\n",
      "Epoch 103/200\n",
      "3/3 [==============================] - 0s 2ms/step - loss: 0.1120 - accuracy: 0.9791\n",
      "Epoch 104/200\n",
      "3/3 [==============================] - 0s 1ms/step - loss: 0.1152 - accuracy: 0.9582\n",
      "Epoch 105/200\n",
      "3/3 [==============================] - 0s 1ms/step - loss: 0.1292 - accuracy: 0.9655\n",
      "Epoch 106/200\n",
      "3/3 [==============================] - 0s 1ms/step - loss: 0.1104 - accuracy: 0.9655\n",
      "Epoch 107/200\n",
      "3/3 [==============================] - 0s 1ms/step - loss: 0.1015 - accuracy: 0.9727\n",
      "Epoch 108/200\n",
      "3/3 [==============================] - ETA: 0s - loss: 0.0744 - accuracy: 1.00 - 0s 1ms/step - loss: 0.0886 - accuracy: 0.9769\n",
      "Epoch 109/200\n",
      "3/3 [==============================] - 0s 1ms/step - loss: 0.1040 - accuracy: 0.9696\n",
      "Epoch 110/200\n",
      "3/3 [==============================] - 0s 1ms/step - loss: 0.0915 - accuracy: 0.9676\n",
      "Epoch 111/200\n",
      "3/3 [==============================] - 0s 1ms/step - loss: 0.1126 - accuracy: 0.9613\n",
      "Epoch 112/200\n",
      "3/3 [==============================] - 0s 1ms/step - loss: 0.1088 - accuracy: 0.9728\n",
      "Epoch 113/200\n",
      "3/3 [==============================] - 0s 1ms/step - loss: 0.0995 - accuracy: 0.9707\n",
      "Epoch 114/200\n",
      "3/3 [==============================] - 0s 1ms/step - loss: 0.1084 - accuracy: 0.9613\n",
      "Epoch 115/200\n",
      "3/3 [==============================] - 0s 2ms/step - loss: 0.1050 - accuracy: 0.9540\n",
      "Epoch 116/200\n",
      "3/3 [==============================] - 0s 3ms/step - loss: 0.0939 - accuracy: 0.9623\n",
      "Epoch 117/200\n",
      "3/3 [==============================] - 0s 1ms/step - loss: 0.1028 - accuracy: 0.9665\n",
      "Epoch 118/200\n",
      "3/3 [==============================] - 0s 1ms/step - loss: 0.0999 - accuracy: 0.9791\n",
      "Epoch 119/200\n",
      "3/3 [==============================] - 0s 1ms/step - loss: 0.0943 - accuracy: 0.9644\n",
      "Epoch 120/200\n",
      "3/3 [==============================] - 0s 1ms/step - loss: 0.0833 - accuracy: 0.9843\n",
      "Epoch 121/200\n",
      "3/3 [==============================] - 0s 1ms/step - loss: 0.1033 - accuracy: 0.9676\n",
      "Epoch 122/200\n",
      "3/3 [==============================] - 0s 1ms/step - loss: 0.1046 - accuracy: 0.9540\n",
      "Epoch 123/200\n",
      "3/3 [==============================] - 0s 1ms/step - loss: 0.0841 - accuracy: 0.9592\n",
      "Epoch 124/200\n",
      "3/3 [==============================] - 0s 1ms/step - loss: 0.1367 - accuracy: 0.9519\n",
      "Epoch 125/200\n",
      "3/3 [==============================] - 0s 1ms/step - loss: 0.0818 - accuracy: 0.9780\n",
      "Epoch 126/200\n",
      "3/3 [==============================] - 0s 1ms/step - loss: 0.1075 - accuracy: 0.9393\n",
      "Epoch 127/200\n",
      "3/3 [==============================] - 0s 1ms/step - loss: 0.0781 - accuracy: 0.9843\n",
      "Epoch 128/200\n",
      "3/3 [==============================] - 0s 1ms/step - loss: 0.0848 - accuracy: 0.9769\n",
      "Epoch 129/200\n",
      "3/3 [==============================] - 0s 1ms/step - loss: 0.1011 - accuracy: 0.9707\n",
      "Epoch 130/200\n",
      "3/3 [==============================] - 0s 1ms/step - loss: 0.0955 - accuracy: 0.9613\n",
      "Epoch 131/200\n",
      "3/3 [==============================] - 0s 1ms/step - loss: 0.0915 - accuracy: 0.9676\n",
      "Epoch 132/200\n",
      "3/3 [==============================] - 0s 1ms/step - loss: 0.0793 - accuracy: 0.9738\n",
      "Epoch 133/200\n",
      "3/3 [==============================] - 0s 1ms/step - loss: 0.1123 - accuracy: 0.9446\n",
      "Epoch 134/200\n",
      "3/3 [==============================] - 0s 1ms/step - loss: 0.0885 - accuracy: 0.9791\n",
      "Epoch 135/200\n",
      "3/3 [==============================] - 0s 1ms/step - loss: 0.0951 - accuracy: 0.9655\n",
      "Epoch 136/200\n",
      "3/3 [==============================] - 0s 1ms/step - loss: 0.0894 - accuracy: 0.9707\n",
      "Epoch 137/200\n",
      "3/3 [==============================] - 0s 1ms/step - loss: 0.0866 - accuracy: 0.9676\n",
      "Epoch 138/200\n",
      "3/3 [==============================] - 0s 1ms/step - loss: 0.0843 - accuracy: 0.9676\n",
      "Epoch 139/200\n",
      "3/3 [==============================] - 0s 1ms/step - loss: 0.0865 - accuracy: 0.9749\n",
      "Epoch 140/200\n",
      "3/3 [==============================] - 0s 1ms/step - loss: 0.1001 - accuracy: 0.9592\n",
      "Epoch 141/200\n",
      "3/3 [==============================] - 0s 2ms/step - loss: 0.0726 - accuracy: 0.9843\n",
      "Epoch 142/200\n",
      "3/3 [==============================] - 0s 1ms/step - loss: 0.0767 - accuracy: 0.9780\n",
      "Epoch 143/200\n",
      "3/3 [==============================] - 0s 3ms/step - loss: 0.0961 - accuracy: 0.9707\n",
      "Epoch 144/200\n",
      "3/3 [==============================] - 0s 2ms/step - loss: 0.0788 - accuracy: 0.9696\n",
      "Epoch 145/200\n",
      "3/3 [==============================] - 0s 2ms/step - loss: 0.1019 - accuracy: 0.9676\n",
      "Epoch 146/200\n",
      "3/3 [==============================] - 0s 1ms/step - loss: 0.0806 - accuracy: 0.9634\n",
      "Epoch 147/200\n",
      "3/3 [==============================] - 0s 1ms/step - loss: 0.0888 - accuracy: 0.9718\n",
      "Epoch 148/200\n",
      "3/3 [==============================] - 0s 1ms/step - loss: 0.0648 - accuracy: 0.9874\n",
      "Epoch 149/200\n",
      "3/3 [==============================] - 0s 2ms/step - loss: 0.0849 - accuracy: 0.9791\n",
      "Epoch 150/200\n",
      "3/3 [==============================] - 0s 1ms/step - loss: 0.0967 - accuracy: 0.9540\n",
      "Epoch 151/200\n",
      "3/3 [==============================] - 0s 1ms/step - loss: 0.0861 - accuracy: 0.9707\n",
      "Epoch 152/200\n",
      "3/3 [==============================] - 0s 2ms/step - loss: 0.0878 - accuracy: 0.9571\n",
      "Epoch 153/200\n",
      "3/3 [==============================] - 0s 1ms/step - loss: 0.0752 - accuracy: 0.9676\n",
      "Epoch 154/200\n",
      "3/3 [==============================] - 0s 1ms/step - loss: 0.0663 - accuracy: 0.9759\n",
      "Epoch 155/200\n",
      "3/3 [==============================] - 0s 2ms/step - loss: 0.0874 - accuracy: 0.9749\n",
      "Epoch 156/200\n",
      "3/3 [==============================] - 0s 1ms/step - loss: 0.0868 - accuracy: 0.9738\n",
      "Epoch 157/200\n",
      "3/3 [==============================] - 0s 1ms/step - loss: 0.1215 - accuracy: 0.9477\n",
      "Epoch 158/200\n",
      "3/3 [==============================] - 0s 1ms/step - loss: 0.0779 - accuracy: 0.9780\n",
      "Epoch 159/200\n",
      "3/3 [==============================] - 0s 1ms/step - loss: 0.0899 - accuracy: 0.9582\n",
      "Epoch 160/200\n",
      "3/3 [==============================] - 0s 1ms/step - loss: 0.0837 - accuracy: 0.9780\n",
      "Epoch 161/200\n",
      "3/3 [==============================] - 0s 1ms/step - loss: 0.1166 - accuracy: 0.9467\n",
      "Epoch 162/200\n",
      "3/3 [==============================] - 0s 1ms/step - loss: 0.0797 - accuracy: 0.9718\n",
      "Epoch 163/200\n",
      "3/3 [==============================] - 0s 1ms/step - loss: 0.0820 - accuracy: 0.9749\n",
      "Epoch 164/200\n",
      "3/3 [==============================] - 0s 1ms/step - loss: 0.0736 - accuracy: 0.9655\n",
      "Epoch 165/200\n",
      "3/3 [==============================] - 0s 1ms/step - loss: 0.0709 - accuracy: 0.9791\n",
      "Epoch 166/200\n",
      "3/3 [==============================] - 0s 1ms/step - loss: 0.0648 - accuracy: 0.9801\n",
      "Epoch 167/200\n",
      "3/3 [==============================] - 0s 2ms/step - loss: 0.0914 - accuracy: 0.9655\n",
      "Epoch 168/200\n",
      "3/3 [==============================] - 0s 2ms/step - loss: 0.1164 - accuracy: 0.9519\n",
      "Epoch 169/200\n",
      "3/3 [==============================] - 0s 1ms/step - loss: 0.0731 - accuracy: 0.9749\n",
      "Epoch 170/200\n",
      "3/3 [==============================] - 0s 2ms/step - loss: 0.0898 - accuracy: 0.9676\n",
      "Epoch 171/200\n",
      "3/3 [==============================] - 0s 1ms/step - loss: 0.0655 - accuracy: 0.9780\n",
      "Epoch 172/200\n",
      "3/3 [==============================] - 0s 1ms/step - loss: 0.0853 - accuracy: 0.9519\n",
      "Epoch 173/200\n",
      "3/3 [==============================] - 0s 1ms/step - loss: 0.0821 - accuracy: 0.9655\n",
      "Epoch 174/200\n",
      "3/3 [==============================] - 0s 1ms/step - loss: 0.0822 - accuracy: 0.9676\n",
      "Epoch 175/200\n",
      "3/3 [==============================] - 0s 1ms/step - loss: 0.0664 - accuracy: 0.9780\n",
      "Epoch 176/200\n",
      "3/3 [==============================] - 0s 1ms/step - loss: 0.1207 - accuracy: 0.9404\n",
      "Epoch 177/200\n",
      "3/3 [==============================] - 0s 1ms/step - loss: 0.0809 - accuracy: 0.9644\n",
      "Epoch 178/200\n",
      "3/3 [==============================] - 0s 1ms/step - loss: 0.0737 - accuracy: 0.9780\n",
      "Epoch 179/200\n",
      "3/3 [==============================] - 0s 1ms/step - loss: 0.0684 - accuracy: 0.9707\n",
      "Epoch 180/200\n",
      "3/3 [==============================] - 0s 1ms/step - loss: 0.0731 - accuracy: 0.9749\n",
      "Epoch 181/200\n",
      "3/3 [==============================] - 0s 1ms/step - loss: 0.0842 - accuracy: 0.9676\n",
      "Epoch 182/200\n",
      "3/3 [==============================] - 0s 1ms/step - loss: 0.0825 - accuracy: 0.9540\n",
      "Epoch 183/200\n",
      "3/3 [==============================] - 0s 1ms/step - loss: 0.0674 - accuracy: 0.9644\n",
      "Epoch 184/200\n",
      "3/3 [==============================] - 0s 1ms/step - loss: 0.0961 - accuracy: 0.9540\n",
      "Epoch 185/200\n",
      "3/3 [==============================] - 0s 1ms/step - loss: 0.0662 - accuracy: 0.9685\n",
      "Epoch 186/200\n",
      "3/3 [==============================] - 0s 1ms/step - loss: 0.1236 - accuracy: 0.9373\n",
      "Epoch 187/200\n",
      "3/3 [==============================] - 0s 1ms/step - loss: 0.0615 - accuracy: 0.9707\n",
      "Epoch 188/200\n",
      "3/3 [==============================] - 0s 1ms/step - loss: 0.0579 - accuracy: 0.9874\n",
      "Epoch 189/200\n",
      "3/3 [==============================] - 0s 1ms/step - loss: 0.0886 - accuracy: 0.9551\n",
      "Epoch 190/200\n",
      "3/3 [==============================] - 0s 1ms/step - loss: 0.0810 - accuracy: 0.9718\n",
      "Epoch 191/200\n",
      "3/3 [==============================] - 0s 1ms/step - loss: 0.0558 - accuracy: 0.9843\n",
      "Epoch 192/200\n",
      "3/3 [==============================] - 0s 1ms/step - loss: 0.1027 - accuracy: 0.9540\n",
      "Epoch 193/200\n",
      "3/3 [==============================] - 0s 1ms/step - loss: 0.0649 - accuracy: 0.9571\n",
      "Epoch 194/200\n",
      "3/3 [==============================] - 0s 1ms/step - loss: 0.0620 - accuracy: 0.9769\n",
      "Epoch 195/200\n",
      "3/3 [==============================] - 0s 1ms/step - loss: 0.0719 - accuracy: 0.9780\n",
      "Epoch 196/200\n",
      "3/3 [==============================] - 0s 1ms/step - loss: 0.0591 - accuracy: 0.9885\n",
      "Epoch 197/200\n",
      "3/3 [==============================] - 0s 1ms/step - loss: 0.0793 - accuracy: 0.9749\n",
      "Epoch 198/200\n",
      "3/3 [==============================] - 0s 1ms/step - loss: 0.0751 - accuracy: 0.9718\n",
      "Epoch 199/200\n",
      "3/3 [==============================] - 0s 1ms/step - loss: 0.0742 - accuracy: 0.9676\n",
      "Epoch 200/200\n",
      "3/3 [==============================] - 0s 1ms/step - loss: 0.0539 - accuracy: 0.9916\n"
     ]
    },
    {
     "data": {
      "text/plain": [
       "<tensorflow.python.keras.callbacks.History at 0x7f855169d5d0>"
      ]
     },
     "execution_count": 15,
     "metadata": {},
     "output_type": "execute_result"
    }
   ],
   "source": [
    "network.fit(trainX, trainY, epochs=200, batch_size=40)"
   ]
  },
  {
   "cell_type": "markdown",
   "metadata": {},
   "source": [
    "## test model on test data"
   ]
  },
  {
   "cell_type": "code",
   "execution_count": 16,
   "metadata": {},
   "outputs": [
    {
     "name": "stdout",
     "output_type": "stream",
     "text": [
      "1/1 [==============================] - 0s 122ms/step - loss: 0.0753 - accuracy: 0.9667\n",
      "Test Accuracy:  0.9666666388511658 \n",
      "Test Loss:  0.07534001022577286\n"
     ]
    }
   ],
   "source": [
    "## Get the accuracy of test data set\n",
    "####################################\n",
    "test_loss, test_acc = network.evaluate(testX, testY)\n",
    "\n",
    "## Print the test accuracy\n",
    "####################################\n",
    "\n",
    "print('Test Accuracy: ', test_acc, '\\nTest Loss: ', test_loss)"
   ]
  },
  {
   "cell_type": "markdown",
   "metadata": {},
   "source": [
    "<hr>\n"
   ]
  },
  {
   "cell_type": "markdown",
   "metadata": {},
   "source": [
    "## Want to learn more?\n",
    "\n",
    "Running deep learning programs usually needs a high performance platform. **PowerAI** speeds up deep learning and AI. Built on IBM’s Power Systems, **PowerAI** is a scalable software platform that accelerates deep learning and AI with blazing performance for individual users or enterprises. The **PowerAI** platform supports popular machine learning libraries and dependencies including TensorFlow, Caffe, Torch, and Theano. You can use [PowerAI on IMB Cloud](https://cocl.us/ML0120EN_PAI).\n",
    "\n",
    "Also, you can use **Watson Studio** to run these notebooks faster with bigger datasets.**Watson Studio** is IBM’s leading cloud solution for data scientists, built by data scientists. With Jupyter notebooks, RStudio, Apache Spark and popular libraries pre-packaged in the cloud, **Watson Studio** enables data scientists to collaborate on their projects without having to install anything. Join the fast-growing community of **Watson Studio** users today with a free account at [Watson Studio](https://cocl.us/ML0120EN_DSX).This is the end of this lesson. Thank you for reading this notebook, and good luck on your studies.\n"
   ]
  },
  {
   "cell_type": "markdown",
   "metadata": {},
   "source": [
    "### Thanks for completing this lesson!\n",
    "\n",
    "This is the end of **Logistic Regression with TensorFlow** notebook. Hopefully, now you have a deeper understanding of Logistic Regression and how its structure and flow work. Thank you for reading this notebook and good luck on your studies.\n"
   ]
  },
  {
   "cell_type": "markdown",
   "metadata": {},
   "source": [
    "\n",
    "<hr>\n",
    "\n",
    "## <h3 align=\"center\"> © IBM Corporation 2020. All rights reserved. <h3/>\n"
   ]
  },
  {
   "cell_type": "markdown",
   "metadata": {},
   "source": [
    "<hr>\n",
    "\n",
    "Copyright © 2018 [Cognitive Class](https://cocl.us/DX0108EN_CC). This notebook and its source code are released under the terms of the [MIT License](https://bigdatauniversity.com/mit-license?cm_mmc=Email_Newsletter-_-Developer_Ed%2BTech-_-WW_WW-_-SkillsNetwork-Courses-IBMDeveloperSkillsNetwork-DL0120EN-SkillsNetwork-20629446&cm_mmca1=000026UJ&cm_mmca2=10006555&cm_mmca3=M12345678&cvosrc=email.Newsletter.M12345678&cvo_campaign=000026UJ&cm_mmc=Email_Newsletter-_-Developer_Ed%2BTech-_-WW_WW-_-SkillsNetwork-Courses-IBMDeveloperSkillsNetwork-DL0120EN-SkillsNetwork-20629446&cm_mmca1=000026UJ&cm_mmca2=10006555&cm_mmca3=M12345678&cvosrc=email.Newsletter.M12345678&cvo_campaign=000026UJ&cm_mmc=Email_Newsletter-_-Developer_Ed%2BTech-_-WW_WW-_-SkillsNetwork-Courses-IBMDeveloperSkillsNetwork-DL0120EN-SkillsNetwork-20629446&cm_mmca1=000026UJ&cm_mmca2=10006555&cm_mmca3=M12345678&cvosrc=email.Newsletter.M12345678&cvo_campaign=000026UJ&cm_mmc=Email_Newsletter-_-Developer_Ed%2BTech-_-WW_WW-_-SkillsNetwork-Courses-IBMDeveloperSkillsNetwork-DL0120EN-SkillsNetwork-20629446&cm_mmca1=000026UJ&cm_mmca2=10006555&cm_mmca3=M12345678&cvosrc=email.Newsletter.M12345678&cvo_campaign=000026UJ).\n"
   ]
  }
 ],
 "metadata": {
  "kernelspec": {
   "display_name": "Python 3.7",
   "language": "python",
   "name": "python3"
  },
  "language_info": {
   "codemirror_mode": {
    "name": "ipython",
    "version": 3
   },
   "file_extension": ".py",
   "mimetype": "text/x-python",
   "name": "python",
   "nbconvert_exporter": "python",
   "pygments_lexer": "ipython3",
   "version": "3.7.11"
  }
 },
 "nbformat": 4,
 "nbformat_minor": 4
}
